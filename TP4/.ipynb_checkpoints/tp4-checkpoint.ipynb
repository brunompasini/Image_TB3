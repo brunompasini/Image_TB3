{
 "cells": [
  {
   "cell_type": "code",
   "execution_count": 8,
   "id": "084d9c7c",
   "metadata": {},
   "outputs": [],
   "source": [
    "from imageio import imread\n",
    "import numpy as np\n",
    "import matplotlib.pyplot as plt\n",
    "from scipy.signal import convolve2d"
   ]
  },
  {
   "cell_type": "code",
   "execution_count": 6,
   "id": "1102b872",
   "metadata": {},
   "outputs": [
    {
     "data": {
      "text/plain": [
       "<matplotlib.image.AxesImage at 0x193e7daba90>"
      ]
     },
     "execution_count": 6,
     "metadata": {},
     "output_type": "execute_result"
    },
    {
     "data": {
      "image/png": "[encoded data removed]",
      "text/plain": [
       "<Figure size 432x288 with 1 Axes>"
      ]
     },
     "metadata": {
      "needs_background": "light"
     },
     "output_type": "display_data"
    }
   ],
   "source": [
    "X = imread('X.bmp')\n",
    "X = (X>10).astype(int)\n",
    "plt.imshow(X)"
   ]
  },
  {
   "cell_type": "code",
   "execution_count": 19,
   "id": "1780ec45",
   "metadata": {},
   "outputs": [
    {
     "data": {
      "text/plain": [
       "Array([[0, 0, 0, 0, 0, 0, 0, 0, 0, 0, 0, 0],\n",
       "       [0, 0, 1, 1, 1, 0, 0, 1, 0, 0, 1, 0],\n",
       "       [0, 1, 1, 0, 1, 0, 1, 0, 1, 0, 0, 0],\n",
       "       [0, 1, 0, 1, 1, 0, 0, 1, 0, 1, 0, 0],\n",
       "       [0, 1, 1, 1, 0, 1, 0, 1, 1, 0, 0, 0],\n",
       "       [0, 1, 1, 0, 1, 0, 0, 0, 1, 0, 1, 0],\n",
       "       [0, 0, 0, 0, 0, 0, 1, 0, 0, 0, 1, 0],\n",
       "       [0, 0, 1, 0, 0, 0, 1, 0, 0, 1, 1, 0],\n",
       "       [0, 0, 0, 1, 1, 1, 1, 1, 0, 1, 1, 0],\n",
       "       [0, 1, 0, 1, 1, 0, 1, 0, 0, 0, 1, 0],\n",
       "       [0, 0, 1, 1, 1, 1, 1, 0, 0, 1, 0, 0],\n",
       "       [0, 0, 0, 0, 0, 0, 0, 0, 0, 0, 0, 0]])"
      ]
     },
     "execution_count": 19,
     "metadata": {},
     "output_type": "execute_result"
    }
   ],
   "source": [
    "X"
   ]
  },
  {
   "cell_type": "code",
   "execution_count": 10,
   "id": "114cb952",
   "metadata": {},
   "outputs": [
    {
     "name": "stdout",
     "output_type": "stream",
     "text": [
      "[[ 0  0  0  0  0  0  0  0  0  0  0  0]\n",
      " [ 0  0  1  5  5  4  0  1  4  0  1  4]\n",
      " [ 0  1  7 14 11 12  1  6  9  4  2  8]\n",
      " [ 0  3 14  9  7 12  2  9  6  9  4  0]\n",
      " [ 0  3 13  7 14  9  4  3 13  6  8  0]\n",
      " [ 0  3 15 14  9  6  8  2 11 12  1  4]\n",
      " [ 0  2 10  8  2  8  1  4  2  8  3 12]\n",
      " [ 0  0  1  4  0  0  3 12  0  1  7 12]\n",
      " [ 0  0  2  9  5  5  7 13  4  3 15 12]\n",
      " [ 0  1  4  3 15 14 11 14  8  2 11 12]\n",
      " [ 0  2  9  7 15 13  7 12  0  1  6  8]\n",
      " [ 0  0  2 10 10 10 10  8  0  2  8  0]]\n"
     ]
    }
   ],
   "source": [
    "mask = np.array([[0,0,0],\n",
    "                 [0,1,4],\n",
    "                 [0,2,8]])\n",
    "\n",
    "conv = convolve2d(X, mask, mode='same')\n",
    "print(conv)"
   ]
  },
  {
   "cell_type": "code",
   "execution_count": 17,
   "id": "96fd512d",
   "metadata": {},
   "outputs": [
    {
     "data": {
      "text/plain": [
       "<BarContainer object of 16 artists>"
      ]
     },
     "execution_count": 17,
     "metadata": {},
     "output_type": "execute_result"
    },
    {
     "data": {
      "image/png": "[encoded data removed]",
      "text/plain": [
       "<Figure size 432x288 with 1 Axes>"
      ]
     },
     "metadata": {
      "needs_background": "light"
     },
     "output_type": "display_data"
    }
   ],
   "source": [
    "x_axis = np.arange(0,17,1)\n",
    "\n",
    "h, x = np.histogram(conv[:], bins=x_axis)\n",
    "\n",
    "plt.bar(x[0:-1], h)"
   ]
  },
  {
   "cell_type": "code",
   "execution_count": 33,
   "id": "3654a95c",
   "metadata": {},
   "outputs": [
    {
     "data": {
      "text/plain": [
       "array([37, 11, 11,  8, 11,  4,  5,  7, 10,  8,  5,  4,  9,  4,  6,  4],\n",
       "      dtype=int64)"
      ]
     },
     "execution_count": 33,
     "metadata": {},
     "output_type": "execute_result"
    }
   ],
   "source": [
    "h"
   ]
  },
  {
   "cell_type": "code",
   "execution_count": 36,
   "id": "6b8c5d54",
   "metadata": {},
   "outputs": [],
   "source": [
    "arr_f_intra = [0, 1, 0, 1, 0, 1, 0, 1, 0, 1, 0, 1, 0, 1, 0, 1]\n",
    "arr_e_intra = [0, 2, 1, 2, 1, 2, 2, 2 ,0, 2, 1, 2, 1, 2, 2, 2]\n",
    "arr_v_intra = [0, 1, 1, 1, 1, 1, 1, 1, 1, 1, 1, 1, 1, 1, 1, 1]\n",
    "\n",
    "arr_f_inter = [0, 0, 0, 0, 0, 0, 0, 0, 0, 0, 0, 0, 0, 0, 0, 1]\n",
    "arr_e_inter = [0, 0, 0, 1, 0, 1, 0, 2, 0, 0, 0, 1, 0, 1, 0, 2]\n",
    "arr_v_inter = [0, 1, 0, 1, 0, 1, 0, 1, 0, 1, 0, 1, 0, 1, 0, 1]"
   ]
  },
  {
   "cell_type": "code",
   "execution_count": 40,
   "id": "c08b7e27",
   "metadata": {},
   "outputs": [
    {
     "name": "stdout",
     "output_type": "stream",
     "text": [
      "intra :\n",
      "v_intra = 107\n",
      "e_intra = 158\n",
      "f_intra = 50\n",
      "\n",
      "inter :\n",
      "v_inter = 50\n",
      "e_inter = 42\n",
      "f_inter = 4\n",
      "\n",
      "A  = 50\n",
      "P  = 116\n",
      "χ8 = -1\n",
      "χ4 = 12\n"
     ]
    }
   ],
   "source": [
    "v_intra = arr_v_intra@h\n",
    "\n",
    "e_intra = arr_e_intra@h\n",
    "\n",
    "f_intra = arr_f_intra@h\n",
    "\n",
    "print(\"intra :\\nv_intra = %d\\ne_intra = %d\\nf_intra = %d\"%(v_intra, e_intra , f_intra))\n",
    "\n",
    "print()\n",
    "\n",
    "v_inter = arr_v_inter@h\n",
    "\n",
    "e_inter = arr_e_inter@h\n",
    "\n",
    "f_inter = arr_f_inter@h\n",
    "\n",
    "print(\"inter :\\nv_inter = %d\\ne_inter = %d\\nf_inter = %d\"%(v_inter, e_inter , f_inter))\n",
    "\n",
    "A  = f_intra\n",
    "P  = -4*f_intra + 2*e_intra\n",
    "χ8 = v_intra - e_intra + f_intra\n",
    "χ4 = v_inter - e_inter + f_inter\n",
    "\n",
    "print()\n",
    "\n",
    "print(\"A  = %d\\nP  = %d\\nχ8 = %d\\nχ4 = %d\"%(A, P , χ8, χ4))\n"
   ]
  },
  {
   "cell_type": "code",
   "execution_count": 51,
   "id": "4093a834",
   "metadata": {},
   "outputs": [
    {
     "name": "stdout",
     "output_type": "stream",
     "text": [
      "P4 : 91.106187\n",
      "P8 : 77.763995\n"
     ]
    }
   ],
   "source": [
    "from numpy import sqrt\n",
    "# Crofton\n",
    "\n",
    "P4 = [0, np.pi/2, 0, 0, 0, np.pi/2, 0, 0, np.pi/2, np.pi, 0, 0 , np.pi/2, np.pi, 0, 0]\n",
    "P8 = [0, (np.pi/4)*(1+(1/np.sqrt(2))), (np.pi/(4*sqrt(2))), (np.pi/(2*sqrt(2))), 0, \n",
    "     (np.pi/4)*(1+(1/np.sqrt(2))), 0, (np.pi/(4*sqrt(2))), np.pi/4, np.pi/2, \n",
    "     (np.pi/(4*sqrt(2))), (np.pi/(4*np.sqrt(2))), np.pi/4, np.pi/2, 0, 0]\n",
    "\n",
    "hP4 = h@P4\n",
    "hP8 = h@P8\n",
    "\n",
    "print(\"P4 : %f\\nP8 : %f\" % (hP4, hP8))"
   ]
  },
  {
   "cell_type": "code",
   "execution_count": null,
   "id": "bcc4b3f0",
   "metadata": {},
   "outputs": [],
   "source": []
  }
 ],
 "metadata": {
  "kernelspec": {
   "display_name": "Python 3",
   "language": "python",
   "name": "python3"
  },
  "language_info": {
   "codemirror_mode": {
    "name": "ipython",
    "version": 3
   },
   "file_extension": ".py",
   "mimetype": "text/x-python",
   "name": "python",
   "nbconvert_exporter": "python",
   "pygments_lexer": "ipython3",
   "version": "3.8.8"
  }
 },
 "nbformat": 4,
 "nbformat_minor": 5
}
