{
 "cells": [
  {
   "cell_type": "markdown",
   "metadata": {},
   "source": [
    "## TP 12"
   ]
  },
  {
   "cell_type": "code",
   "execution_count": 1,
   "metadata": {},
   "outputs": [],
   "source": [
    "%matplotlib inline\n",
    "from scipy.ndimage import sobel, gaussian_filter\n",
    "from scipy import ndimage, misc\n",
    "import scipy\n",
    "import numpy as np\n",
    "import imageio\n",
    "import matplotlib.pyplot as plt\n",
    "from PIL import Image\n",
    "from time import sleep\n",
    "from skimage.feature import peak_local_max\n",
    "from skimage import measure"
   ]
  },
  {
   "cell_type": "code",
   "execution_count": 2,
   "metadata": {},
   "outputs": [],
   "source": [
    "checker = imageio.imread('checkerboard.png')\n",
    "checker = checker.astype('double')\n",
    "sweden = imageio.imread('sweden_road.png')"
   ]
  },
  {
   "cell_type": "code",
   "execution_count": 3,
   "metadata": {},
   "outputs": [
    {
     "data": {
      "text/plain": [
       "'\\ndef checkerboard(nb_x=2, nb_y=2, s=10) :\\n    C = 255*np.kron ([[1, 0] * nb_x, [0, 1] * nb_x] * nb_y, np.ones(( s , s) ) )\\n    return C\\n\\n#\\ncheckerboard generation\\na grid of size 2∗nb_x by 2∗nb_y is generated\\neach square has s pixels .\\n'"
      ]
     },
     "execution_count": 3,
     "metadata": {},
     "output_type": "execute_result"
    }
   ],
   "source": [
    "\"\"\"\n",
    "def checkerboard(nb_x=2, nb_y=2, s=10) :\n",
    "    C = 255*np.kron ([[1, 0] * nb_x, [0, 1] * nb_x] * nb_y, np.ones(( s , s) ) )\n",
    "    return C\n",
    "\n",
    "#\"\"\"\"\"\"\n",
    "checkerboard generation\n",
    "a grid of size 2∗nb_x by 2∗nb_y is generated\n",
    "each square has s pixels .\n",
    "\"\"\"\n",
    "\n"
   ]
  },
  {
   "cell_type": "code",
   "execution_count": 4,
   "metadata": {},
   "outputs": [
    {
     "data": {
      "text/plain": [
       "Text(0.5, 1.0, 'Sobel Y')"
      ]
     },
     "execution_count": 4,
     "metadata": {},
     "output_type": "execute_result"
    },
    {
     "data": {
      "image/png": "[encoded data removed]",
      "text/plain": [
       "<Figure size 432x288 with 1 Axes>"
      ]
     },
     "metadata": {
      "needs_background": "light"
     },
     "output_type": "display_data"
    },
    {
     "data": {
      "image/png": "[encoded data removed]",
      "text/plain": [
       "<Figure size 432x288 with 1 Axes>"
      ]
     },
     "metadata": {
      "needs_background": "light"
     },
     "output_type": "display_data"
    }
   ],
   "source": [
    "Ix, Iy = sobel(checker,axis=0), sobel(checker,axis=1)\n",
    "\n",
    "plt.figure()\n",
    "plt.imshow(Ix); plt.title('Sobel X')\n",
    "\n",
    "plt.figure()\n",
    "plt.imshow(Iy); plt.title('Sobel Y')"
   ]
  },
  {
   "cell_type": "code",
   "execution_count": 5,
   "metadata": {
    "scrolled": false
   },
   "outputs": [],
   "source": [
    "sigma = 3\n",
    "M1, M2, M4 = np.multiply(Ix, Ix), np.multiply(Iy, Ix), np.multiply(Iy, Iy)\n",
    "M1 = scipy.ndimage.gaussian_filter(M1, sigma)\n",
    "M2 = scipy.ndimage.gaussian_filter(M2, sigma)\n",
    "M4 = scipy.ndimage.gaussian_filter(M4, sigma)\n",
    "#plt.imshow(M1)\n",
    "#plt.imshow(M2)\n",
    "#plt.imshow(M4)"
   ]
  },
  {
   "cell_type": "markdown",
   "metadata": {},
   "source": [
    "$C = det - K \\cdot Trace^2$  \n",
    "where $Trace = M1 + M4 $, main diagonal and $0.04 \\leq K \\leq 0.15$"
   ]
  },
  {
   "cell_type": "code",
   "execution_count": 6,
   "metadata": {},
   "outputs": [
    {
     "data": {
      "text/plain": [
       "<matplotlib.image.AxesImage at 0x2dce514ce20>"
      ]
     },
     "execution_count": 6,
     "metadata": {},
     "output_type": "execute_result"
    },
    {
     "data": {
      "image/png": "[encoded data removed]",
      "text/plain": [
       "<Figure size 432x288 with 1 Axes>"
      ]
     },
     "metadata": {
      "needs_background": "light"
     },
     "output_type": "display_data"
    }
   ],
   "source": [
    "K = 0.55\n",
    "C = (np.multiply(M1,M4) - np.multiply(M2,M2)) - K*(np.multiply((M1+M4),(M1+M4)))\n",
    "plt.imshow(C)"
   ]
  },
  {
   "cell_type": "code",
   "execution_count": 7,
   "metadata": {},
   "outputs": [
    {
     "name": "stderr",
     "output_type": "stream",
     "text": [
      "<ipython-input-7-f3a14c65fe8d>:1: FutureWarning: indices argument is deprecated and will be removed in version 0.20. To avoid this warning, please do not use the indices argument. Please see peak_local_max documentation for more details.\n",
      "  corners = peak_local_max(C, indices =False , min_distance=1)\n"
     ]
    },
    {
     "data": {
      "text/plain": [
       "<matplotlib.image.AxesImage at 0x2dce51e7d00>"
      ]
     },
     "execution_count": 7,
     "metadata": {},
     "output_type": "execute_result"
    },
    {
     "data": {
      "image/png": "[encoded data removed]",
      "text/plain": [
       "<Figure size 432x288 with 1 Axes>"
      ]
     },
     "metadata": {
      "needs_background": "light"
     },
     "output_type": "display_data"
    }
   ],
   "source": [
    "corners = peak_local_max(C, indices =False , min_distance=1)\n",
    "plt.imshow(corners)"
   ]
  },
  {
   "cell_type": "code",
   "execution_count": 8,
   "metadata": {},
   "outputs": [],
   "source": [
    "L = measure.label(corners)\n",
    "props = measure.regionprops(L)\n",
    "centers = []\n",
    "for prop in props:\n",
    "    centers.append(prop.centroid)\n"
   ]
  },
  {
   "cell_type": "code",
   "execution_count": 9,
   "metadata": {},
   "outputs": [
    {
     "name": "stderr",
     "output_type": "stream",
     "text": [
      "<ipython-input-9-162dad1a6fa8>:84: UserWarning: checkerboard.python.png is a low contrast image\n",
      "  imsave('checkerboard.python.png', checker.astype('int'))\n",
      "Lossy conversion from int32 to uint8. Range [0, 255]. Convert image to uint8 prior to saving to suppress this warning.\n",
      "<ipython-input-9-162dad1a6fa8>:61: FutureWarning: indices argument is deprecated and will be removed in version 0.20. To avoid this warning, please do not use the indices argument. Please see peak_local_max documentation for more details.\n",
      "  corners = peak_local_max(C, indices=False, min_distance=2)\n"
     ]
    },
    {
     "data": {
      "image/png": "[encoded data removed]",
      "text/plain": [
       "<Figure size 432x288 with 1 Axes>"
      ]
     },
     "metadata": {
      "needs_background": "light"
     },
     "output_type": "display_data"
    },
    {
     "data": {
      "image/png": "[encoded data removed]",
      "text/plain": [
       "<Figure size 432x288 with 1 Axes>"
      ]
     },
     "metadata": {
      "needs_background": "light"
     },
     "output_type": "display_data"
    },
    {
     "name": "stderr",
     "output_type": "stream",
     "text": [
      "Lossy conversion from float64 to uint8. Range [0, 1]. Convert image to uint8 prior to saving to suppress this warning.\n",
      "<ipython-input-9-162dad1a6fa8>:61: FutureWarning: indices argument is deprecated and will be removed in version 0.20. To avoid this warning, please do not use the indices argument. Please see peak_local_max documentation for more details.\n",
      "  corners = peak_local_max(C, indices=False, min_distance=2)\n",
      "Lossy conversion from float64 to uint8. Range [0, 1]. Convert image to uint8 prior to saving to suppress this warning.\n"
     ]
    },
    {
     "data": {
      "image/png": "[encoded data removed]",
      "text/plain": [
       "<Figure size 432x288 with 1 Axes>"
      ]
     },
     "metadata": {
      "needs_background": "light"
     },
     "output_type": "display_data"
    }
   ],
   "source": [
    "%matplotlib inline\n",
    "# -*- coding: utf-8 -*-\n",
    "\"\"\"\n",
    "Created on Thu Nov  8 09:16:03 2018\n",
    "\n",
    "Harris corner detector\n",
    "\n",
    "@author: yann\n",
    "\"\"\"\n",
    "\n",
    "import numpy as np\n",
    "import matplotlib.pyplot as plt\n",
    "import scipy\n",
    "from skimage.io import imread, imsave\n",
    "from skimage.feature import peak_local_max\n",
    "from skimage import measure, exposure\n",
    "\n",
    "from skimage.morphology import disk, dilation\n",
    "\n",
    "\n",
    "def checkerboard(nb_x=2, nb_y=2, s=10):\n",
    "    \"\"\"\n",
    "    checkerboard generation\n",
    "    a grid of size 2*nb_x X 2*nb_y is generated\n",
    "    each square has s pixels.\n",
    "    \"\"\"\n",
    "    C = 255*np.kron([[1, 0] * nb_x, [0, 1] * nb_x] * nb_y, np.ones((s, s)))\n",
    "    return C\n",
    "\n",
    "\n",
    "def harris(I, K, sigma, t):\n",
    "    \"\"\"\n",
    "    Harris corner detector\n",
    "    I     : original grayscale image\n",
    "    K     : coefficient\n",
    "    sigma : scale of observation (gaussian filter size)\n",
    "    t     : threshold value\n",
    "    return values\n",
    "    C     : Cornerness measure\n",
    "    pts   : coordinates of the points\n",
    "\n",
    "    \"\"\"\n",
    "    I = I.astype('double')\n",
    "    Ix = scipy.ndimage.sobel(I, axis=0)\n",
    "    Iy = scipy.ndimage.sobel(I, axis=1)\n",
    "    M1 = Ix * Ix\n",
    "    M2 = Iy * Ix\n",
    "    M4 = Iy * Iy\n",
    "\n",
    "    # gaussian filter\n",
    "    M1 = scipy.ndimage.gaussian_filter(M1, sigma)\n",
    "    M2 = scipy.ndimage.gaussian_filter(M2, sigma)\n",
    "    M4 = scipy.ndimage.gaussian_filter(M4, sigma)\n",
    "\n",
    "    # cornerness measure\n",
    "    C = M1*M4 - M2*M2 - K * (M1+M4)*(M1+M4)\n",
    "    C2 = C.copy()\n",
    "    C[C < t] = 0\n",
    "\n",
    "    # find local maxima\n",
    "    corners = peak_local_max(C, indices=False, min_distance=2)\n",
    "    L = measure.label(corners)\n",
    "    props = measure.regionprops(L)\n",
    "    centers = []\n",
    "    for prop in props:\n",
    "        centers.append(prop.centroid)\n",
    "\n",
    "    # convert into np array\n",
    "    centers = np.array(centers)\n",
    "\n",
    "    # normalize C for saving image\n",
    "    C2 = C2 - np.min(C2)\n",
    "    C2 = C2 / np.max(C2)\n",
    "\n",
    "    return C2, centers\n",
    "\n",
    "\n",
    "##########################################################\n",
    "# 1st test on checkerboard\n",
    "K = 0.04\n",
    "sigma = 1\n",
    "t = 0\n",
    "checker = checkerboard(nb_x=2, nb_y=2, s=8)\n",
    "imsave('checkerboard.python.png', checker.astype('int'))\n",
    "plt.imshow(checker)\n",
    "cornerness, corners = harris(checker, K, sigma, t)\n",
    "fig = plt.figure()\n",
    "plt.imshow(checker)\n",
    "plt.plot(corners[:, 1], corners[:, 0], 'o')\n",
    "plt.show()\n",
    "fig.savefig('harris_checker.python.pdf', bbox_inches='tight')\n",
    "imsave('cornerness_checker.python.png', cornerness)\n",
    "\n",
    "\n",
    "##########################################################\n",
    "# %%\n",
    "# sweden road sign\n",
    "I = imread('sweden_road.png')\n",
    "sigma = 3\n",
    "t = 10**7\n",
    "cornerness, corners = harris(I, K, sigma, t)\n",
    "imsave('cornerness_swedenroad.python.png',\n",
    "       exposure.equalize_adapthist(cornerness))\n",
    "corners = corners.astype('int')\n",
    "\n",
    "# for saving image result with detected corners in red\n",
    "I2 = np.repeat(I[:, :, np.newaxis], 3, axis=2)\n",
    "P = np.zeros(I.shape, dtype='uint8')\n",
    "\n",
    "P[corners[:, 0], corners[:, 1]] = 255\n",
    "SE = disk(10)\n",
    "P = dilation(P, selem=SE)\n",
    "\n",
    "I2[:, :, 0] = np.maximum(I2[:, :, 0], P)\n",
    "I2[:, :, 1] = np.minimum(I2[:, :, 1], 255-P)\n",
    "\n",
    "I2[:, :, 2] = np.minimum(I2[:, :, 2], 255-P)\n",
    "plt.imshow(I2)\n",
    "imsave('harris_swedenroad.python.png', I2)"
   ]
  },
  {
   "cell_type": "code",
   "execution_count": null,
   "metadata": {},
   "outputs": [],
   "source": []
  }
 ],
 "metadata": {
  "kernelspec": {
   "display_name": "Python 3",
   "language": "python",
   "name": "python3"
  },
  "language_info": {
   "codemirror_mode": {
    "name": "ipython",
    "version": 3
   },
   "file_extension": ".py",
   "mimetype": "text/x-python",
   "name": "python",
   "nbconvert_exporter": "python",
   "pygments_lexer": "ipython3",
   "version": "3.8.8"
  }
 },
 "nbformat": 4,
 "nbformat_minor": 4
}
