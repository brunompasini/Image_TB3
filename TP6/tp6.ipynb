{
 "cells": [
  {
   "cell_type": "code",
   "execution_count": 1,
   "id": "909bf2b9",
   "metadata": {},
   "outputs": [],
   "source": [
    "import numpy as np\n",
    "from scipy import ndimage\n",
    "from imageio import imread\n",
    "import matplotlib.pyplot as plt\n",
    "from skimage import measure\n",
    "#from skimage.transform import rotate\n",
    "from glob import glob\n",
    "from sklearn.cluster import KMeans\n",
    "from numpy import sqrt"
   ]
  },
  {
   "cell_type": "code",
   "execution_count": 2,
   "id": "b33e308f",
   "metadata": {},
   "outputs": [
    {
     "data": {
      "text/plain": [
       "'1.6.2'"
      ]
     },
     "execution_count": 2,
     "metadata": {},
     "output_type": "execute_result"
    }
   ],
   "source": [
    "import scipy\n",
    "scipy.__version__"
   ]
  },
  {
   "cell_type": "code",
   "execution_count": 3,
   "id": "fd0b4530",
   "metadata": {},
   "outputs": [],
   "source": [
    "from smallestenclosingcircle import *"
   ]
  },
  {
   "cell_type": "code",
   "execution_count": 4,
   "id": "f056269a",
   "metadata": {},
   "outputs": [],
   "source": [
    "# Crofton\n",
    "\n",
    "\n",
    "#P4 = [0, np.pi/2, 0, 0, 0, np.pi/2, 0, 0, np.pi/2, np.pi, 0, 0 , np.pi/2, np.pi, 0, 0]\n",
    "#P8 = [0, (np.pi/4)*(1+(1/np.sqrt(2))), (np.pi/(4*sqrt(2))), (np.pi/(2*sqrt(2))), 0, \n",
    "#     (np.pi/4)*(1+(1/np.sqrt(2))), 0, (np.pi/(4*sqrt(2))), np.pi/4, np.pi/2, \n",
    "#     (np.pi/(4*sqrt(2))), (np.pi/(4*np.sqrt(2))), np.pi/4, np.pi/2, 0, 0]\n",
    "\n",
    "\n",
    "def crofton(image):\n",
    "    inter = []\n",
    "    h = np.array([[1, -1]])\n",
    "    for i in range(4):\n",
    "        im1 = np.copy(image)\n",
    "        im2 = ndimage.rotate(im1, 45*i, order=0)\n",
    "        im3 = ndimage.convolve(im2, h)\n",
    "        inter.append(np.sum(im3>100))\n",
    "        \n",
    "    crofton = np.pi/4. * (inter[0]+inter[2] + (inter[1]+inter[3])/np.sqrt(2))\n",
    "    return crofton"
   ]
  },
  {
   "cell_type": "code",
   "execution_count": 5,
   "id": "97c7fcd1",
   "metadata": {},
   "outputs": [],
   "source": [
    "def feret(image):\n",
    "    d = np.max(image.shape)\n",
    "    D = 0\n",
    "    \n",
    "    for a in np.arange(0,180,30):\n",
    "        im2 = ndimage.rotate(image, a, order=0)\n",
    "        F = np.max(im2, axis=0)\n",
    "        measure = np.sum(F>100)\n",
    "        \n",
    "        if measure<d:\n",
    "            d = measure\n",
    "        if measure>D:\n",
    "            D = measure\n",
    "    return d,D"
   ]
  },
  {
   "cell_type": "code",
   "execution_count": 6,
   "id": "a0ffa4be",
   "metadata": {},
   "outputs": [],
   "source": [
    "def inscribed_radius(image):\n",
    "    dm = ndimage.morphology.distance_transform_cdt(image>100)\n",
    "    return np.max(dm)\n",
    "    "
   ]
  },
  {
   "cell_type": "code",
   "execution_count": 7,
   "id": "da7b963e",
   "metadata": {},
   "outputs": [],
   "source": [
    "def area(image):\n",
    "    return np.sum(image>100)"
   ]
  },
  {
   "cell_type": "markdown",
   "id": "1a336001",
   "metadata": {},
   "source": [
    "$elongation = \\frac{d}{D}$\n",
    "\n",
    "$thinness = \\frac{2\\omega}{\\pi} $"
   ]
  },
  {
   "cell_type": "code",
   "execution_count": 16,
   "id": "db497db8",
   "metadata": {},
   "outputs": [],
   "source": [
    "for i in range(1,21):\n",
    "    name = ['apple-*.bmp', 'Bone-*.bmp', 'camel-*.bmp']\n",
    "    elongation = []\n",
    "    thinness = []\n",
    "    z = []\n",
    "    roundness = []\n",
    "    for pattern in name:\n",
    "        names_list = glob(pattern)\n",
    "        for file in names_list:\n",
    "            image = imread(file)\n",
    "            d,D = feret(image)\n",
    "            croft = crofton(image)\n",
    "            r = inscribed_radius(image)\n",
    "            \n",
    "            elongation.append(d/D)\n",
    "            thinness.append(2*r/D)\n",
    "            roundness.append(4*area(image)/(np.pi*(D**2)))\n",
    "            z.append(croft/(np.pi*D))"
   ]
  },
  {
   "cell_type": "code",
   "execution_count": 17,
   "id": "f7c94c8c",
   "metadata": {},
   "outputs": [
    {
     "data": {
      "text/plain": [
       "<matplotlib.collections.PathCollection at 0x19bacbf9190>"
      ]
     },
     "execution_count": 17,
     "metadata": {},
     "output_type": "execute_result"
    },
    {
     "data": {
      "image/png": "[encoded data removed]",
      "text/plain": [
       "<Figure size 432x288 with 1 Axes>"
      ]
     },
     "metadata": {
      "needs_background": "light"
     },
     "output_type": "display_data"
    },
    {
     "data": {
      "image/png": "[encoded data removed]",
      "text/plain": [
       "<Figure size 432x288 with 1 Axes>"
      ]
     },
     "metadata": {
      "needs_background": "light"
     },
     "output_type": "display_data"
    }
   ],
   "source": [
    "plt.figure()\n",
    "plt.scatter(elongation, thinness)\n",
    "\n",
    "plt.figure()\n",
    "plt.scatter(z, roundness)"
   ]
  },
  {
   "cell_type": "code",
   "execution_count": null,
   "id": "2228e39d",
   "metadata": {},
   "outputs": [],
   "source": []
  },
  {
   "cell_type": "code",
   "execution_count": null,
   "id": "fde5c60c",
   "metadata": {},
   "outputs": [],
   "source": []
  }
 ],
 "metadata": {
  "kernelspec": {
   "display_name": "Python 3",
   "language": "python",
   "name": "python3"
  },
  "language_info": {
   "codemirror_mode": {
    "name": "ipython",
    "version": 3
   },
   "file_extension": ".py",
   "mimetype": "text/x-python",
   "name": "python",
   "nbconvert_exporter": "python",
   "pygments_lexer": "ipython3",
   "version": "3.8.8"
  }
 },
 "nbformat": 4,
 "nbformat_minor": 5
}
