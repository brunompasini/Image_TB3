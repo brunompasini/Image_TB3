{
 "cells": [
  {
   "cell_type": "code",
   "execution_count": 34,
   "id": "a5dd0b05",
   "metadata": {},
   "outputs": [],
   "source": [
    "from imageio import imread\n",
    "import matplotlib.pyplot as plt\n",
    "import numpy as np\n",
    "import random"
   ]
  },
  {
   "cell_type": "code",
   "execution_count": 94,
   "id": "cbd21abd",
   "metadata": {},
   "outputs": [
    {
     "data": {
      "text/plain": [
       "Text(0.5, 1.0, 'data.npz unpacked')"
      ]
     },
     "execution_count": 94,
     "metadata": {},
     "output_type": "execute_result"
    },
    {
     "data": {
      "image/png": "[encoded data removed]",
      "text/plain": [
       "<Figure size 432x288 with 1 Axes>"
      ]
     },
     "metadata": {
      "needs_background": "light"
     },
     "output_type": "display_data"
    },
    {
     "data": {
      "image/png": "[encoded data removed]",
      "text/plain": [
       "<Figure size 432x288 with 1 Axes>"
      ]
     },
     "metadata": {
      "needs_background": "light"
     },
     "output_type": "display_data"
    }
   ],
   "source": [
    "# Loading and seeing data\n",
    "\n",
    "# image.png being read and shown\n",
    "image = imread(\"image.png\")\n",
    "#image = image.astype(\"bool\")\n",
    "plt.figure()\n",
    "plt.imshow(image)\n",
    "plt.title(\"image.png\")\n",
    "\n",
    "#\n",
    "with np.load(\"data.npz\") as data:\n",
    "    X = data[\"X\"]\n",
    "    Y = data[\"Y\"]\n",
    "    \n",
    "plt.figure()\n",
    "plt.scatter(X,Y)\n",
    "plt.title(\"data.npz unpacked\")"
   ]
  },
  {
   "cell_type": "code",
   "execution_count": 307,
   "id": "1f54b7bd",
   "metadata": {},
   "outputs": [],
   "source": [
    "def err_alsoinliers(bettermodel, x, y):\n",
    "    \n",
    "    error = []\n",
    "    for i in range(len(x)):\n",
    "        y_hat = bettermodel[0]*(x[i]**2) + bettermodel[1]*(x[i]) + bettermodel[2]\n",
    "        error.append(abs( y_hat - y ))\n",
    "    final = np.mean(error)\n",
    "        \n",
    "    return final"
   ]
  },
  {
   "cell_type": "code",
   "execution_count": 314,
   "id": "78f02cef",
   "metadata": {},
   "outputs": [],
   "source": [
    "def ransac_polyfit(x, y, n=20, n_iter=100, t=5, d=1000):\n",
    "    \n",
    "    bestFit=None\n",
    "    bestFit_assigned = False\n",
    "    bestError=1e10\n",
    "    lastInliers = []\n",
    "    alsoInliers = []\n",
    "    for niter in range(n_iter):\n",
    "        # executing this loop n_inter times\n",
    "        if niter == 0:\n",
    "            maybeInliers = []\n",
    "        else:\n",
    "            maybeInliers = lastInliers\n",
    "            # this allows me to get only points that were inliers in the previous model\n",
    "            \n",
    "        \n",
    "        for ind in np.random.randint(low=0, high=len(X), size=20):\n",
    "            # for every index selected in the random samples\n",
    "            maybeInliers.append([X[ind], Y[ind]])\n",
    "            \n",
    "        maybeInliers = np.array(maybeInliers)\n",
    "        # np array cast just for easier manipulating\n",
    "        \n",
    "        maybeModel = np.polyfit(maybeInliers[:,0], maybeInliers[:,1], deg=2)\n",
    "       \n",
    "        if not(bestFit_assigned):\n",
    "            bestFit=maybeModel\n",
    "            # will run on first iteration only as the first model is better than None\n",
    "            \n",
    "        for i in range(len(x)):\n",
    "            if abs(y[i] - np.polyval(p=bestFit, x=x[i])) <= t:\n",
    "                # if absolute error is smaller than threshold, appends data point to Inliers\n",
    "                alsoInliers.append([x[i], y[i]])  \n",
    "        #print(\"AI\",alsoInliers)\n",
    "                \n",
    "                \n",
    "        x_inlier = []\n",
    "        y_inlier = []\n",
    "        for el in alsoInliers:\n",
    "            #print(el)\n",
    "            x_inlier.append(el[0])\n",
    "            y_inlier.append(el[1])\n",
    "            \n",
    "        try:\n",
    "            maybeError = err_alsoinliers(maybeModel, x_inlier,y_inlier)\n",
    "        except:\n",
    "            continue\n",
    "        if maybeError < bestError:\n",
    "            bestFit = maybeModel\n",
    "            bestError = maybeError\n",
    "            lastInliers = alsoInliers\n",
    "            \n",
    "    return bestFit, bestError, lastInliers"
   ]
  },
  {
   "cell_type": "code",
   "execution_count": 315,
   "id": "1699b7fc",
   "metadata": {},
   "outputs": [],
   "source": [
    "bestFit, bestError, lastInliers = ransac_polyfit(X, Y, n=20, n_iter=100, t=5, d=10)"
   ]
  },
  {
   "cell_type": "code",
   "execution_count": 317,
   "id": "2ffecd58",
   "metadata": {},
   "outputs": [
    {
     "name": "stdout",
     "output_type": "stream",
     "text": [
      "[ 6.54412098e-04 -4.78317405e-01  3.35377170e+02]\n",
      "16.26164373992208\n"
     ]
    }
   ],
   "source": [
    "print(bestFit)\n",
    "print(bestError)"
   ]
  },
  {
   "cell_type": "code",
   "execution_count": null,
   "id": "2367feb7",
   "metadata": {},
   "outputs": [],
   "source": []
  }
 ],
 "metadata": {
  "kernelspec": {
   "display_name": "Python 3",
   "language": "python",
   "name": "python3"
  },
  "language_info": {
   "codemirror_mode": {
    "name": "ipython",
    "version": 3
   },
   "file_extension": ".py",
   "mimetype": "text/x-python",
   "name": "python",
   "nbconvert_exporter": "python",
   "pygments_lexer": "ipython3",
   "version": "3.8.8"
  }
 },
 "nbformat": 4,
 "nbformat_minor": 5
}
