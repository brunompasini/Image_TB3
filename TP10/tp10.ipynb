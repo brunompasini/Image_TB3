{
 "cells": [
  {
   "cell_type": "code",
   "execution_count": 9,
   "metadata": {},
   "outputs": [],
   "source": [
    "from scipy.ndimage.morphology import binary_dilation, binary_erosion, binary_opening, binary_closing\n",
    "from skimage.morphology import binary_erosion, disk, rectangle\n",
    "\n",
    "from scipy.ndimage import generate_binary_structure\n",
    "from scipy import ndimage\n",
    "\n",
    "from skimage.morphology import binary_erosion, disk, rectangle\n",
    "from skimage.measure import perimeter\n",
    "\n",
    "\n",
    "import numpy as np\n",
    "import matplotlib.pyplot as plt\n",
    "from imageio import imread"
   ]
  },
  {
   "cell_type": "code",
   "execution_count": 10,
   "metadata": {},
   "outputs": [],
   "source": [
    "def bwperim(I, connectivity=8):\n",
    "    if connectivity==8:\n",
    "        SE = rectangle(3,3)\n",
    "    elif connectivity==4:\n",
    "        SE = disk(1)\n",
    "        \n",
    "    E = binary_erosion(I, selem=SE)\n",
    "    \n",
    "    return I^E"
   ]
  },
  {
   "cell_type": "code",
   "execution_count": 39,
   "metadata": {
    "scrolled": true
   },
   "outputs": [
    {
     "data": {
      "text/plain": [
       "<matplotlib.image.AxesImage at 0x2459d153e80>"
      ]
     },
     "execution_count": 39,
     "metadata": {},
     "output_type": "execute_result"
    },
    {
     "data": {
      "image/png": "[encoded data removed]",
      "text/plain": [
       "<Figure size 432x288 with 1 Axes>"
      ]
     },
     "metadata": {
      "needs_background": "light"
     },
     "output_type": "display_data"
    },
    {
     "data": {
      "image/png": "[encoded data removed]",
      "text/plain": [
       "<Figure size 432x288 with 1 Axes>"
      ]
     },
     "metadata": {
      "needs_background": "light"
     },
     "output_type": "display_data"
    },
    {
     "data": {
      "image/png": "[encoded data removed]",
      "text/plain": [
       "<Figure size 432x288 with 1 Axes>"
      ]
     },
     "metadata": {
      "needs_background": "light"
     },
     "output_type": "display_data"
    }
   ],
   "source": [
    "A = np.zeros((20,20)).astype('bool')\n",
    "A[4:14, 9:17] = True\n",
    "A[1:18, 11:16] = True\n",
    "#A[8,8] = True\n",
    "\n",
    "per4 = bwperim(A,4)\n",
    "per8 = bwperim(A,8)\n",
    "\n",
    "plt.figure()\n",
    "plt.imshow(A)\n",
    "plt.figure()\n",
    "plt.imshow(per4)\n",
    "plt.figure()\n",
    "plt.imshow(per8)"
   ]
  },
  {
   "cell_type": "code",
   "execution_count": 40,
   "metadata": {},
   "outputs": [],
   "source": [
    "def get_direction_4(start, end):\n",
    "    if start[0] == end[0]:\n",
    "        if start[1] < end[1]:\n",
    "            return 0\n",
    "        return 1\n",
    "    elif start[1] == end[1]:\n",
    "        if start[0] < end[0]:\n",
    "            return 3\n",
    "        return 2"
   ]
  },
  {
   "cell_type": "code",
   "execution_count": null,
   "metadata": {},
   "outputs": [],
   "source": [
    "def get_next_point(point, array):\n",
    "    x, y = point[0], point[1]\n",
    "    to_sum = np.array([[0,1],\n",
    "                       [-1,0],\n",
    "                       [0,-1],\n",
    "                       [1,0]])\n",
    "    candidates = to_sum + point\n",
    "    \n",
    "    binar = candidates in array\n",
    "    \n",
    "        "
   ]
  },
  {
   "cell_type": "code",
   "execution_count": 41,
   "metadata": {},
   "outputs": [
    {
     "data": {
      "text/plain": [
       "array([[ 1, 12],\n",
       "       [ 1, 13]], dtype=int64)"
      ]
     },
     "execution_count": 41,
     "metadata": {},
     "output_type": "execute_result"
    }
   ],
   "source": [
    "true_args4[0:2]+np.array([0,1])"
   ]
  },
  {
   "cell_type": "code",
   "execution_count": 42,
   "metadata": {
    "scrolled": false
   },
   "outputs": [
    {
     "name": "stdout",
     "output_type": "stream",
     "text": [
      "[[ 1 11]\n",
      " [ 1 12]\n",
      " [ 1 13]\n",
      " [ 1 14]\n",
      " [ 1 15]\n",
      " [ 2 11]\n",
      " [ 2 15]\n",
      " [ 3 11]\n",
      " [ 3 15]\n",
      " [ 4  9]]\n"
     ]
    }
   ],
   "source": [
    "true_args4 = np.argwhere(per8)\n",
    "print(true_args4[0:10])\n",
    "first_arg = true_args4[0]"
   ]
  },
  {
   "cell_type": "code",
   "execution_count": 43,
   "metadata": {},
   "outputs": [
    {
     "data": {
      "text/plain": [
       "<matplotlib.collections.PathCollection at 0x2459d9cdd00>"
      ]
     },
     "execution_count": 43,
     "metadata": {},
     "output_type": "execute_result"
    },
    {
     "data": {
      "image/png": "[encoded data removed]",
      "text/plain": [
       "<Figure size 432x288 with 1 Axes>"
      ]
     },
     "metadata": {
      "needs_background": "light"
     },
     "output_type": "display_data"
    }
   ],
   "source": [
    "plt.scatter(true_args4[:,1], true_args4[:,0])"
   ]
  },
  {
   "cell_type": "code",
   "execution_count": null,
   "metadata": {},
   "outputs": [],
   "source": []
  }
 ],
 "metadata": {
  "kernelspec": {
   "display_name": "Python 3",
   "language": "python",
   "name": "python3"
  },
  "language_info": {
   "codemirror_mode": {
    "name": "ipython",
    "version": 3
   },
   "file_extension": ".py",
   "mimetype": "text/x-python",
   "name": "python",
   "nbconvert_exporter": "python",
   "pygments_lexer": "ipython3",
   "version": "3.8.5"
  }
 },
 "nbformat": 4,
 "nbformat_minor": 4
}
