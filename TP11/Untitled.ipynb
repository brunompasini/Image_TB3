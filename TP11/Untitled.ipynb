{
 "cells": [
  {
   "cell_type": "code",
   "execution_count": 3,
   "metadata": {},
   "outputs": [],
   "source": [
    "import numpy as np\n",
    "import matplotlib.pyplot as plt\n",
    "\n",
    "import scipy\n",
    "from scipy.spatial import Delaunay, Voronoi, voronoi_plot_2d, distance\n",
    "from scipy.sparse import csgraph\n",
    "\n",
    "from shapely import geometry"
   ]
  },
  {
   "cell_type": "code",
   "execution_count": 4,
   "metadata": {},
   "outputs": [
    {
     "data": {
      "text/plain": [
       "<matplotlib.collections.PathCollection at 0x20476b64d90>"
      ]
     },
     "execution_count": 4,
     "metadata": {},
     "output_type": "execute_result"
    },
    {
     "data": {
      "image/png": "[encoded data removed]",
      "text/plain": [
       "<Figure size 432x288 with 1 Axes>"
      ]
     },
     "metadata": {
      "needs_background": "light"
     },
     "output_type": "display_data"
    },
    {
     "data": {
      "image/png": "[encoded data removed]",
      "text/plain": [
       "<Figure size 432x288 with 1 Axes>"
      ]
     },
     "metadata": {
      "needs_background": "light"
     },
     "output_type": "display_data"
    },
    {
     "data": {
      "image/png": "[encoded data removed]",
      "text/plain": [
       "<Figure size 432x288 with 1 Axes>"
      ]
     },
     "metadata": {
      "needs_background": "light"
     },
     "output_type": "display_data"
    }
   ],
   "source": [
    "def uniform(N=100):\n",
    "    return np.random.rand(N,2)\n",
    "\n",
    "def gaussian(N=100):\n",
    "    return np.random.randn(N,2)\n",
    "    \n",
    "def regular(N=100):\n",
    "    c = np.floor(np.sqrt(N))\n",
    "    x2,y2 = np.meshgrid(range(int(c)), range(int(c)))\n",
    "    points = np.vstack([x2.ravel(), y2.ravel()])\n",
    "    return points.transpose()\n",
    "\n",
    "\n",
    "plt.figure(1)\n",
    "plt.scatter(uniform()[:,0], uniform()[:,1])\n",
    "\n",
    "plt.figure(2)\n",
    "plt.scatter(gaussian()[:,0], gaussian()[:,1])\n",
    "\n",
    "plt.figure(3)\n",
    "plt.scatter(regular()[:,0], regular()[:,1])"
   ]
  },
  {
   "cell_type": "code",
   "execution_count": 5,
   "metadata": {},
   "outputs": [],
   "source": [
    "def RFH(vor):\n",
    "    rfs = []\n",
    "    for cell in vor.regions:\n",
    "        if cell and -1 not in cell:\n",
    "            poly = geometry.Polygon([(vor.vertices[p]) for p in cell])\n",
    "            rfs.append(4*np.pi*poly.area/(poly.length**2))\n",
    "    res = 1 - np.std(rfs)/np.mean(rfs)\n",
    "    return res\n",
    "\n",
    "def AD(vor):\n",
    "    areas = []\n",
    "    for cell in vor.regions:\n",
    "        if cell and -1 not in cell:\n",
    "            poly = geometry.Polygon([(vor.vertices[p-1]) for p in cell])\n",
    "            areas.append(poly.area)\n",
    "            \n",
    "    res = 1 - 1/(1+np.std(areas)/np.mean(areas))\n",
    "    return res\n",
    "        "
   ]
  },
  {
   "cell_type": "code",
   "execution_count": 6,
   "metadata": {},
   "outputs": [],
   "source": [
    "def tri_to_mat(tri, value=0):\n",
    "    M = np.full((tri.npoints, tri.npoints), value)\n",
    "    d = distance.pdist(tri.points)\n",
    "    distances = distance.squareform(d)\n",
    "    \n",
    "    for s in tri.simplices:\n",
    "        M[s[0], s[1]] = distances[s[0], s[1]]\n",
    "        M[s[1], s[2]] = distances[s[1], s[2]]\n",
    "        M[s[2], s[0]] = distances[s[2], s[0]]\n",
    "        \n",
    "    return M\n",
    "    \n",
    "def charac(tri):\n",
    "    M = tri_to_mat(tri)\n",
    "    m = np.mean(M[M>0])\n",
    "    s = np.std(M[M>0])\n",
    "    \n",
    "    return m,s"
   ]
  },
  {
   "cell_type": "code",
   "execution_count": 7,
   "metadata": {},
   "outputs": [],
   "source": [
    "points = uniform()\n",
    "tri = Delaunay(points)\n",
    "vor = Voronoi(points)"
   ]
  },
  {
   "cell_type": "code",
   "execution_count": 8,
   "metadata": {},
   "outputs": [
    {
     "name": "stderr",
     "output_type": "stream",
     "text": [
      "C:\\Users\\bruno\\anaconda3\\lib\\site-packages\\numpy\\core\\fromnumeric.py:3372: RuntimeWarning: Mean of empty slice.\n",
      "  return _methods._mean(a, axis=axis, dtype=dtype,\n",
      "C:\\Users\\bruno\\anaconda3\\lib\\site-packages\\numpy\\core\\_methods.py:170: RuntimeWarning: invalid value encountered in double_scalars\n",
      "  ret = ret.dtype.type(ret / rcount)\n",
      "C:\\Users\\bruno\\anaconda3\\lib\\site-packages\\numpy\\core\\_methods.py:233: RuntimeWarning: Degrees of freedom <= 0 for slice\n",
      "  ret = _var(a, axis=axis, dtype=dtype, out=out, ddof=ddof,\n",
      "C:\\Users\\bruno\\anaconda3\\lib\\site-packages\\numpy\\core\\_methods.py:194: RuntimeWarning: invalid value encountered in true_divide\n",
      "  arrmean = um.true_divide(\n",
      "C:\\Users\\bruno\\anaconda3\\lib\\site-packages\\numpy\\core\\_methods.py:226: RuntimeWarning: invalid value encountered in double_scalars\n",
      "  ret = ret.dtype.type(ret / rcount)\n"
     ]
    }
   ],
   "source": [
    "ms, ss = charac(tri)"
   ]
  },
  {
   "cell_type": "code",
   "execution_count": 8,
   "metadata": {},
   "outputs": [],
   "source": [
    "rfh = RFH(vor)\n",
    "ad = AD(vor)"
   ]
  },
  {
   "cell_type": "code",
   "execution_count": 9,
   "metadata": {},
   "outputs": [
    {
     "data": {
      "text/plain": [
       "nan"
      ]
     },
     "execution_count": 9,
     "metadata": {},
     "output_type": "execute_result"
    }
   ],
   "source": [
    "ms"
   ]
  },
  {
   "cell_type": "code",
   "execution_count": null,
   "metadata": {},
   "outputs": [],
   "source": []
  }
 ],
 "metadata": {
  "kernelspec": {
   "display_name": "Python 3",
   "language": "python",
   "name": "python3"
  },
  "language_info": {
   "codemirror_mode": {
    "name": "ipython",
    "version": 3
   },
   "file_extension": ".py",
   "mimetype": "text/x-python",
   "name": "python",
   "nbconvert_exporter": "python",
   "pygments_lexer": "ipython3",
   "version": "3.8.8"
  }
 },
 "nbformat": 4,
 "nbformat_minor": 4
}
